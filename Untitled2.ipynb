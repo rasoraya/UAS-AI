{
  "cells": [
    {
      "cell_type": "markdown",
      "metadata": {
        "id": "view-in-github",
        "colab_type": "text"
      },
      "source": [
        "<a href=\"https://colab.research.google.com/github/rasoraya/UAS-AI/blob/main/Untitled2.ipynb\" target=\"_parent\"><img src=\"https://colab.research.google.com/assets/colab-badge.svg\" alt=\"Open In Colab\"/></a>"
      ]
    },
    {
      "cell_type": "code",
      "execution_count": 1,
      "metadata": {
        "id": "Cekedi0zSMnD"
      },
      "outputs": [],
      "source": [
        "import pandas as pd"
      ]
    },
    {
      "cell_type": "code",
      "execution_count": 2,
      "metadata": {
        "colab": {
          "base_uri": "https://localhost:8080/",
          "height": 206
        },
        "id": "6EJ2Mh_gSg1-",
        "outputId": "e844f7ff-94ea-455d-b988-cbf051cf82bf"
      },
      "outputs": [
        {
          "output_type": "execute_result",
          "data": {
            "text/plain": [
              "   id  Area  MajorAxisLength  MinorAxisLength  Eccentricity  ConvexArea  \\\n",
              "0   1  4537        92.229316        64.012769      0.719916        4677   \n",
              "1   2  2872        74.691881        51.400454      0.725553        3015   \n",
              "2   3  3048        76.293164        52.043491      0.731211        3132   \n",
              "3   4  3073        77.033628        51.928487      0.738639        3157   \n",
              "4   5  3693        85.124785        56.374021      0.749282        3802   \n",
              "\n",
              "   EquivDiameter    Extent  Perimeter  Roundness  AspectRation    Class  \n",
              "0      76.004525  0.657536    273.085   0.764510      1.440796  jasmine  \n",
              "1      60.471018  0.713009    208.317   0.831658      1.453137  jasmine  \n",
              "2      62.296341  0.759153    210.012   0.868434      1.465950  jasmine  \n",
              "3      62.551300  0.783529    210.657   0.870203      1.483456  jasmine  \n",
              "4      68.571668  0.769375    230.332   0.874743      1.510000  jasmine  "
            ],
            "text/html": [
              "\n",
              "  <div id=\"df-0273e859-6349-45be-88cf-13600b877173\">\n",
              "    <div class=\"colab-df-container\">\n",
              "      <div>\n",
              "<style scoped>\n",
              "    .dataframe tbody tr th:only-of-type {\n",
              "        vertical-align: middle;\n",
              "    }\n",
              "\n",
              "    .dataframe tbody tr th {\n",
              "        vertical-align: top;\n",
              "    }\n",
              "\n",
              "    .dataframe thead th {\n",
              "        text-align: right;\n",
              "    }\n",
              "</style>\n",
              "<table border=\"1\" class=\"dataframe\">\n",
              "  <thead>\n",
              "    <tr style=\"text-align: right;\">\n",
              "      <th></th>\n",
              "      <th>id</th>\n",
              "      <th>Area</th>\n",
              "      <th>MajorAxisLength</th>\n",
              "      <th>MinorAxisLength</th>\n",
              "      <th>Eccentricity</th>\n",
              "      <th>ConvexArea</th>\n",
              "      <th>EquivDiameter</th>\n",
              "      <th>Extent</th>\n",
              "      <th>Perimeter</th>\n",
              "      <th>Roundness</th>\n",
              "      <th>AspectRation</th>\n",
              "      <th>Class</th>\n",
              "    </tr>\n",
              "  </thead>\n",
              "  <tbody>\n",
              "    <tr>\n",
              "      <th>0</th>\n",
              "      <td>1</td>\n",
              "      <td>4537</td>\n",
              "      <td>92.229316</td>\n",
              "      <td>64.012769</td>\n",
              "      <td>0.719916</td>\n",
              "      <td>4677</td>\n",
              "      <td>76.004525</td>\n",
              "      <td>0.657536</td>\n",
              "      <td>273.085</td>\n",
              "      <td>0.764510</td>\n",
              "      <td>1.440796</td>\n",
              "      <td>jasmine</td>\n",
              "    </tr>\n",
              "    <tr>\n",
              "      <th>1</th>\n",
              "      <td>2</td>\n",
              "      <td>2872</td>\n",
              "      <td>74.691881</td>\n",
              "      <td>51.400454</td>\n",
              "      <td>0.725553</td>\n",
              "      <td>3015</td>\n",
              "      <td>60.471018</td>\n",
              "      <td>0.713009</td>\n",
              "      <td>208.317</td>\n",
              "      <td>0.831658</td>\n",
              "      <td>1.453137</td>\n",
              "      <td>jasmine</td>\n",
              "    </tr>\n",
              "    <tr>\n",
              "      <th>2</th>\n",
              "      <td>3</td>\n",
              "      <td>3048</td>\n",
              "      <td>76.293164</td>\n",
              "      <td>52.043491</td>\n",
              "      <td>0.731211</td>\n",
              "      <td>3132</td>\n",
              "      <td>62.296341</td>\n",
              "      <td>0.759153</td>\n",
              "      <td>210.012</td>\n",
              "      <td>0.868434</td>\n",
              "      <td>1.465950</td>\n",
              "      <td>jasmine</td>\n",
              "    </tr>\n",
              "    <tr>\n",
              "      <th>3</th>\n",
              "      <td>4</td>\n",
              "      <td>3073</td>\n",
              "      <td>77.033628</td>\n",
              "      <td>51.928487</td>\n",
              "      <td>0.738639</td>\n",
              "      <td>3157</td>\n",
              "      <td>62.551300</td>\n",
              "      <td>0.783529</td>\n",
              "      <td>210.657</td>\n",
              "      <td>0.870203</td>\n",
              "      <td>1.483456</td>\n",
              "      <td>jasmine</td>\n",
              "    </tr>\n",
              "    <tr>\n",
              "      <th>4</th>\n",
              "      <td>5</td>\n",
              "      <td>3693</td>\n",
              "      <td>85.124785</td>\n",
              "      <td>56.374021</td>\n",
              "      <td>0.749282</td>\n",
              "      <td>3802</td>\n",
              "      <td>68.571668</td>\n",
              "      <td>0.769375</td>\n",
              "      <td>230.332</td>\n",
              "      <td>0.874743</td>\n",
              "      <td>1.510000</td>\n",
              "      <td>jasmine</td>\n",
              "    </tr>\n",
              "  </tbody>\n",
              "</table>\n",
              "</div>\n",
              "      <button class=\"colab-df-convert\" onclick=\"convertToInteractive('df-0273e859-6349-45be-88cf-13600b877173')\"\n",
              "              title=\"Convert this dataframe to an interactive table.\"\n",
              "              style=\"display:none;\">\n",
              "        \n",
              "  <svg xmlns=\"http://www.w3.org/2000/svg\" height=\"24px\"viewBox=\"0 0 24 24\"\n",
              "       width=\"24px\">\n",
              "    <path d=\"M0 0h24v24H0V0z\" fill=\"none\"/>\n",
              "    <path d=\"M18.56 5.44l.94 2.06.94-2.06 2.06-.94-2.06-.94-.94-2.06-.94 2.06-2.06.94zm-11 1L8.5 8.5l.94-2.06 2.06-.94-2.06-.94L8.5 2.5l-.94 2.06-2.06.94zm10 10l.94 2.06.94-2.06 2.06-.94-2.06-.94-.94-2.06-.94 2.06-2.06.94z\"/><path d=\"M17.41 7.96l-1.37-1.37c-.4-.4-.92-.59-1.43-.59-.52 0-1.04.2-1.43.59L10.3 9.45l-7.72 7.72c-.78.78-.78 2.05 0 2.83L4 21.41c.39.39.9.59 1.41.59.51 0 1.02-.2 1.41-.59l7.78-7.78 2.81-2.81c.8-.78.8-2.07 0-2.86zM5.41 20L4 18.59l7.72-7.72 1.47 1.35L5.41 20z\"/>\n",
              "  </svg>\n",
              "      </button>\n",
              "      \n",
              "  <style>\n",
              "    .colab-df-container {\n",
              "      display:flex;\n",
              "      flex-wrap:wrap;\n",
              "      gap: 12px;\n",
              "    }\n",
              "\n",
              "    .colab-df-convert {\n",
              "      background-color: #E8F0FE;\n",
              "      border: none;\n",
              "      border-radius: 50%;\n",
              "      cursor: pointer;\n",
              "      display: none;\n",
              "      fill: #1967D2;\n",
              "      height: 32px;\n",
              "      padding: 0 0 0 0;\n",
              "      width: 32px;\n",
              "    }\n",
              "\n",
              "    .colab-df-convert:hover {\n",
              "      background-color: #E2EBFA;\n",
              "      box-shadow: 0px 1px 2px rgba(60, 64, 67, 0.3), 0px 1px 3px 1px rgba(60, 64, 67, 0.15);\n",
              "      fill: #174EA6;\n",
              "    }\n",
              "\n",
              "    [theme=dark] .colab-df-convert {\n",
              "      background-color: #3B4455;\n",
              "      fill: #D2E3FC;\n",
              "    }\n",
              "\n",
              "    [theme=dark] .colab-df-convert:hover {\n",
              "      background-color: #434B5C;\n",
              "      box-shadow: 0px 1px 3px 1px rgba(0, 0, 0, 0.15);\n",
              "      filter: drop-shadow(0px 1px 2px rgba(0, 0, 0, 0.3));\n",
              "      fill: #FFFFFF;\n",
              "    }\n",
              "  </style>\n",
              "\n",
              "      <script>\n",
              "        const buttonEl =\n",
              "          document.querySelector('#df-0273e859-6349-45be-88cf-13600b877173 button.colab-df-convert');\n",
              "        buttonEl.style.display =\n",
              "          google.colab.kernel.accessAllowed ? 'block' : 'none';\n",
              "\n",
              "        async function convertToInteractive(key) {\n",
              "          const element = document.querySelector('#df-0273e859-6349-45be-88cf-13600b877173');\n",
              "          const dataTable =\n",
              "            await google.colab.kernel.invokeFunction('convertToInteractive',\n",
              "                                                     [key], {});\n",
              "          if (!dataTable) return;\n",
              "\n",
              "          const docLinkHtml = 'Like what you see? Visit the ' +\n",
              "            '<a target=\"_blank\" href=https://colab.research.google.com/notebooks/data_table.ipynb>data table notebook</a>'\n",
              "            + ' to learn more about interactive tables.';\n",
              "          element.innerHTML = '';\n",
              "          dataTable['output_type'] = 'display_data';\n",
              "          await google.colab.output.renderOutput(dataTable, element);\n",
              "          const docLink = document.createElement('div');\n",
              "          docLink.innerHTML = docLinkHtml;\n",
              "          element.appendChild(docLink);\n",
              "        }\n",
              "      </script>\n",
              "    </div>\n",
              "  </div>\n",
              "  "
            ]
          },
          "metadata": {},
          "execution_count": 2
        }
      ],
      "source": [
        "rice_df = pd.read_csv('/content/Rice-Gonen andJasmine.csv')\n",
        "rice_df.head()"
      ]
    },
    {
      "cell_type": "code",
      "execution_count": 3,
      "metadata": {
        "colab": {
          "base_uri": "https://localhost:8080/"
        },
        "id": "FLxImUl1TbMY",
        "outputId": "15ebc6a4-09d8-441e-a5ef-a24fc11ad520"
      },
      "outputs": [
        {
          "output_type": "execute_result",
          "data": {
            "text/plain": [
              "(18185, 12)"
            ]
          },
          "metadata": {},
          "execution_count": 3
        }
      ],
      "source": [
        "#identify the shape of the dataset\n",
        "#bentuk/dimensi dataset (baris,kolom)\n",
        "rice_df.shape"
      ]
    },
    {
      "cell_type": "code",
      "execution_count": 4,
      "metadata": {
        "colab": {
          "base_uri": "https://localhost:8080/"
        },
        "id": "ijIyZtnAUdg0",
        "outputId": "94ad44ed-04ed-4701-f496-6ac9321c23a4"
      },
      "outputs": [
        {
          "output_type": "execute_result",
          "data": {
            "text/plain": [
              "Index(['id', 'Area', 'MajorAxisLength', 'MinorAxisLength', 'Eccentricity',\n",
              "       'ConvexArea', 'EquivDiameter', 'Extent', 'Perimeter', 'Roundness',\n",
              "       'AspectRation', 'Class'],\n",
              "      dtype='object')"
            ]
          },
          "metadata": {},
          "execution_count": 4
        }
      ],
      "source": [
        "#get the list of columns\n",
        "#daftar nama kolom\n",
        "rice_df.columns"
      ]
    },
    {
      "cell_type": "code",
      "execution_count": 5,
      "metadata": {
        "colab": {
          "base_uri": "https://localhost:8080/"
        },
        "id": "hjBNDUYeUtNE",
        "outputId": "ca708f01-7708-4077-a7d5-bde31a9d1a27"
      },
      "outputs": [
        {
          "output_type": "execute_result",
          "data": {
            "text/plain": [
              "id                   int64\n",
              "Area                 int64\n",
              "MajorAxisLength    float64\n",
              "MinorAxisLength    float64\n",
              "Eccentricity       float64\n",
              "ConvexArea           int64\n",
              "EquivDiameter      float64\n",
              "Extent             float64\n",
              "Perimeter          float64\n",
              "Roundness          float64\n",
              "AspectRation       float64\n",
              "Class               object\n",
              "dtype: object"
            ]
          },
          "metadata": {},
          "execution_count": 5
        }
      ],
      "source": [
        "#identify data tyoes for each column\n",
        "#tipe data untuk tiap kolom\n",
        "rice_df.dtypes"
      ]
    },
    {
      "cell_type": "code",
      "execution_count": 6,
      "metadata": {
        "colab": {
          "base_uri": "https://localhost:8080/"
        },
        "id": "5JHIBWI4U_-V",
        "outputId": "68f09e63-09ea-40b1-b465-a7c0967d792b"
      },
      "outputs": [
        {
          "output_type": "stream",
          "name": "stdout",
          "text": [
            "<class 'pandas.core.frame.DataFrame'>\n",
            "RangeIndex: 18185 entries, 0 to 18184\n",
            "Data columns (total 12 columns):\n",
            " #   Column           Non-Null Count  Dtype  \n",
            "---  ------           --------------  -----  \n",
            " 0   id               18185 non-null  int64  \n",
            " 1   Area             18185 non-null  int64  \n",
            " 2   MajorAxisLength  18185 non-null  float64\n",
            " 3   MinorAxisLength  18185 non-null  float64\n",
            " 4   Eccentricity     18185 non-null  float64\n",
            " 5   ConvexArea       18185 non-null  int64  \n",
            " 6   EquivDiameter    18185 non-null  float64\n",
            " 7   Extent           18185 non-null  float64\n",
            " 8   Perimeter        18185 non-null  float64\n",
            " 9   Roundness        18185 non-null  float64\n",
            " 10  AspectRation     18185 non-null  float64\n",
            " 11  Class            18185 non-null  object \n",
            "dtypes: float64(8), int64(3), object(1)\n",
            "memory usage: 1.7+ MB\n"
          ]
        }
      ],
      "source": [
        "#get basic dataset information\n",
        "#informasi dataset\n",
        "rice_df.info()"
      ]
    },
    {
      "cell_type": "code",
      "execution_count": 7,
      "metadata": {
        "colab": {
          "base_uri": "https://localhost:8080/"
        },
        "id": "qdI0RTfFVKcl",
        "outputId": "d08cfc38-758e-487b-fefd-26b911b16a76"
      },
      "outputs": [
        {
          "output_type": "execute_result",
          "data": {
            "text/plain": [
              "False"
            ]
          },
          "metadata": {},
          "execution_count": 7
        }
      ],
      "source": [
        "#identify missing values\n",
        "#stroke_df.isnull().values.any()\n",
        "#mendeteksi keberadaan nilai kosong\n",
        "rice_df.isna().values.any()"
      ]
    },
    {
      "cell_type": "code",
      "execution_count": 8,
      "metadata": {
        "colab": {
          "base_uri": "https://localhost:8080/",
          "height": 49
        },
        "id": "XMDa_NvDVfuG",
        "outputId": "0602a164-f540-46a3-ada3-93fa18d01e5a"
      },
      "outputs": [
        {
          "output_type": "execute_result",
          "data": {
            "text/plain": [
              "Empty DataFrame\n",
              "Columns: [id, Area, MajorAxisLength, MinorAxisLength, Eccentricity, ConvexArea, EquivDiameter, Extent, Perimeter, Roundness, AspectRation, Class]\n",
              "Index: []"
            ],
            "text/html": [
              "\n",
              "  <div id=\"df-17185d65-66f6-4acc-8693-914393e4217c\">\n",
              "    <div class=\"colab-df-container\">\n",
              "      <div>\n",
              "<style scoped>\n",
              "    .dataframe tbody tr th:only-of-type {\n",
              "        vertical-align: middle;\n",
              "    }\n",
              "\n",
              "    .dataframe tbody tr th {\n",
              "        vertical-align: top;\n",
              "    }\n",
              "\n",
              "    .dataframe thead th {\n",
              "        text-align: right;\n",
              "    }\n",
              "</style>\n",
              "<table border=\"1\" class=\"dataframe\">\n",
              "  <thead>\n",
              "    <tr style=\"text-align: right;\">\n",
              "      <th></th>\n",
              "      <th>id</th>\n",
              "      <th>Area</th>\n",
              "      <th>MajorAxisLength</th>\n",
              "      <th>MinorAxisLength</th>\n",
              "      <th>Eccentricity</th>\n",
              "      <th>ConvexArea</th>\n",
              "      <th>EquivDiameter</th>\n",
              "      <th>Extent</th>\n",
              "      <th>Perimeter</th>\n",
              "      <th>Roundness</th>\n",
              "      <th>AspectRation</th>\n",
              "      <th>Class</th>\n",
              "    </tr>\n",
              "  </thead>\n",
              "  <tbody>\n",
              "  </tbody>\n",
              "</table>\n",
              "</div>\n",
              "      <button class=\"colab-df-convert\" onclick=\"convertToInteractive('df-17185d65-66f6-4acc-8693-914393e4217c')\"\n",
              "              title=\"Convert this dataframe to an interactive table.\"\n",
              "              style=\"display:none;\">\n",
              "        \n",
              "  <svg xmlns=\"http://www.w3.org/2000/svg\" height=\"24px\"viewBox=\"0 0 24 24\"\n",
              "       width=\"24px\">\n",
              "    <path d=\"M0 0h24v24H0V0z\" fill=\"none\"/>\n",
              "    <path d=\"M18.56 5.44l.94 2.06.94-2.06 2.06-.94-2.06-.94-.94-2.06-.94 2.06-2.06.94zm-11 1L8.5 8.5l.94-2.06 2.06-.94-2.06-.94L8.5 2.5l-.94 2.06-2.06.94zm10 10l.94 2.06.94-2.06 2.06-.94-2.06-.94-.94-2.06-.94 2.06-2.06.94z\"/><path d=\"M17.41 7.96l-1.37-1.37c-.4-.4-.92-.59-1.43-.59-.52 0-1.04.2-1.43.59L10.3 9.45l-7.72 7.72c-.78.78-.78 2.05 0 2.83L4 21.41c.39.39.9.59 1.41.59.51 0 1.02-.2 1.41-.59l7.78-7.78 2.81-2.81c.8-.78.8-2.07 0-2.86zM5.41 20L4 18.59l7.72-7.72 1.47 1.35L5.41 20z\"/>\n",
              "  </svg>\n",
              "      </button>\n",
              "      \n",
              "  <style>\n",
              "    .colab-df-container {\n",
              "      display:flex;\n",
              "      flex-wrap:wrap;\n",
              "      gap: 12px;\n",
              "    }\n",
              "\n",
              "    .colab-df-convert {\n",
              "      background-color: #E8F0FE;\n",
              "      border: none;\n",
              "      border-radius: 50%;\n",
              "      cursor: pointer;\n",
              "      display: none;\n",
              "      fill: #1967D2;\n",
              "      height: 32px;\n",
              "      padding: 0 0 0 0;\n",
              "      width: 32px;\n",
              "    }\n",
              "\n",
              "    .colab-df-convert:hover {\n",
              "      background-color: #E2EBFA;\n",
              "      box-shadow: 0px 1px 2px rgba(60, 64, 67, 0.3), 0px 1px 3px 1px rgba(60, 64, 67, 0.15);\n",
              "      fill: #174EA6;\n",
              "    }\n",
              "\n",
              "    [theme=dark] .colab-df-convert {\n",
              "      background-color: #3B4455;\n",
              "      fill: #D2E3FC;\n",
              "    }\n",
              "\n",
              "    [theme=dark] .colab-df-convert:hover {\n",
              "      background-color: #434B5C;\n",
              "      box-shadow: 0px 1px 3px 1px rgba(0, 0, 0, 0.15);\n",
              "      filter: drop-shadow(0px 1px 2px rgba(0, 0, 0, 0.3));\n",
              "      fill: #FFFFFF;\n",
              "    }\n",
              "  </style>\n",
              "\n",
              "      <script>\n",
              "        const buttonEl =\n",
              "          document.querySelector('#df-17185d65-66f6-4acc-8693-914393e4217c button.colab-df-convert');\n",
              "        buttonEl.style.display =\n",
              "          google.colab.kernel.accessAllowed ? 'block' : 'none';\n",
              "\n",
              "        async function convertToInteractive(key) {\n",
              "          const element = document.querySelector('#df-17185d65-66f6-4acc-8693-914393e4217c');\n",
              "          const dataTable =\n",
              "            await google.colab.kernel.invokeFunction('convertToInteractive',\n",
              "                                                     [key], {});\n",
              "          if (!dataTable) return;\n",
              "\n",
              "          const docLinkHtml = 'Like what you see? Visit the ' +\n",
              "            '<a target=\"_blank\" href=https://colab.research.google.com/notebooks/data_table.ipynb>data table notebook</a>'\n",
              "            + ' to learn more about interactive tables.';\n",
              "          element.innerHTML = '';\n",
              "          dataTable['output_type'] = 'display_data';\n",
              "          await google.colab.output.renderOutput(dataTable, element);\n",
              "          const docLink = document.createElement('div');\n",
              "          docLink.innerHTML = docLinkHtml;\n",
              "          element.appendChild(docLink);\n",
              "        }\n",
              "      </script>\n",
              "    </div>\n",
              "  </div>\n",
              "  "
            ]
          },
          "metadata": {},
          "execution_count": 8
        }
      ],
      "source": [
        "#identify duplicate entries/rows\n",
        "#stroke_df[stroke_df.duplicated(keep=False)] #tampilkan seluruh baris dengan duplikasi\n",
        "#tampilkan hanya baris duplikasi sekunder\n",
        "rice_df[rice_df.duplicated()]"
      ]
    },
    {
      "cell_type": "code",
      "execution_count": 9,
      "metadata": {
        "colab": {
          "base_uri": "https://localhost:8080/"
        },
        "id": "rQXsI6XBWoEV",
        "outputId": "4d161fa2-be0c-43b1-8398-6cee63efa3e4"
      },
      "outputs": [
        {
          "output_type": "execute_result",
          "data": {
            "text/plain": [
              "False    18185\n",
              "dtype: int64"
            ]
          },
          "metadata": {},
          "execution_count": 9
        }
      ],
      "source": [
        "#hitung jumlah duplikasi data\n",
        "rice_df.duplicated().value_counts()"
      ]
    },
    {
      "cell_type": "code",
      "execution_count": 10,
      "metadata": {
        "colab": {
          "base_uri": "https://localhost:8080/",
          "height": 364
        },
        "id": "NWJHKJ8sXt2h",
        "outputId": "ab3dbb13-7452-49cd-d145-1c609157a351"
      },
      "outputs": [
        {
          "output_type": "execute_result",
          "data": {
            "text/plain": [
              "                 id          Area  MajorAxisLength  MinorAxisLength  \\\n",
              "count  18185.000000  18185.000000     18185.000000     18185.000000   \n",
              "mean    9093.000000   7036.492989       151.680754        59.807851   \n",
              "std     5249.701658   1467.197150        12.376402        10.061653   \n",
              "min        1.000000   2522.000000        74.133114        34.409894   \n",
              "25%     4547.000000   5962.000000       145.675910        51.393151   \n",
              "50%     9093.000000   6660.000000       153.883750        55.724288   \n",
              "75%    13639.000000   8423.000000       160.056214        70.156593   \n",
              "max    18185.000000  10210.000000       183.211434        82.550762   \n",
              "\n",
              "       Eccentricity    ConvexArea  EquivDiameter        Extent     Perimeter  \\\n",
              "count  18185.000000  18185.000000   18185.000000  18185.000000  18185.000000   \n",
              "mean       0.915406   7225.817872      94.132952      0.616653    351.606949   \n",
              "std        0.030575   1502.006571       9.906250      0.104389     29.500620   \n",
              "min        0.676647   2579.000000      56.666658      0.383239    197.015000   \n",
              "25%        0.891617   6125.000000      87.126656      0.538530    333.990000   \n",
              "50%        0.923259   6843.000000      92.085696      0.601194    353.088000   \n",
              "75%        0.941372   8645.000000     103.559146      0.695664    373.003000   \n",
              "max        0.966774  11008.000000     114.016559      0.886573    508.511000   \n",
              "\n",
              "          Roundness  AspectRation  \n",
              "count  18185.000000  18185.000000  \n",
              "mean       0.707998      2.599081  \n",
              "std        0.067310      0.434836  \n",
              "min        0.174590      1.358128  \n",
              "25%        0.650962      2.208527  \n",
              "50%        0.701941      2.602966  \n",
              "75%        0.769280      2.964101  \n",
              "max        0.904748      3.911845  "
            ],
            "text/html": [
              "\n",
              "  <div id=\"df-f2b598f6-e19d-4f7e-92f5-1c13b542132e\">\n",
              "    <div class=\"colab-df-container\">\n",
              "      <div>\n",
              "<style scoped>\n",
              "    .dataframe tbody tr th:only-of-type {\n",
              "        vertical-align: middle;\n",
              "    }\n",
              "\n",
              "    .dataframe tbody tr th {\n",
              "        vertical-align: top;\n",
              "    }\n",
              "\n",
              "    .dataframe thead th {\n",
              "        text-align: right;\n",
              "    }\n",
              "</style>\n",
              "<table border=\"1\" class=\"dataframe\">\n",
              "  <thead>\n",
              "    <tr style=\"text-align: right;\">\n",
              "      <th></th>\n",
              "      <th>id</th>\n",
              "      <th>Area</th>\n",
              "      <th>MajorAxisLength</th>\n",
              "      <th>MinorAxisLength</th>\n",
              "      <th>Eccentricity</th>\n",
              "      <th>ConvexArea</th>\n",
              "      <th>EquivDiameter</th>\n",
              "      <th>Extent</th>\n",
              "      <th>Perimeter</th>\n",
              "      <th>Roundness</th>\n",
              "      <th>AspectRation</th>\n",
              "    </tr>\n",
              "  </thead>\n",
              "  <tbody>\n",
              "    <tr>\n",
              "      <th>count</th>\n",
              "      <td>18185.000000</td>\n",
              "      <td>18185.000000</td>\n",
              "      <td>18185.000000</td>\n",
              "      <td>18185.000000</td>\n",
              "      <td>18185.000000</td>\n",
              "      <td>18185.000000</td>\n",
              "      <td>18185.000000</td>\n",
              "      <td>18185.000000</td>\n",
              "      <td>18185.000000</td>\n",
              "      <td>18185.000000</td>\n",
              "      <td>18185.000000</td>\n",
              "    </tr>\n",
              "    <tr>\n",
              "      <th>mean</th>\n",
              "      <td>9093.000000</td>\n",
              "      <td>7036.492989</td>\n",
              "      <td>151.680754</td>\n",
              "      <td>59.807851</td>\n",
              "      <td>0.915406</td>\n",
              "      <td>7225.817872</td>\n",
              "      <td>94.132952</td>\n",
              "      <td>0.616653</td>\n",
              "      <td>351.606949</td>\n",
              "      <td>0.707998</td>\n",
              "      <td>2.599081</td>\n",
              "    </tr>\n",
              "    <tr>\n",
              "      <th>std</th>\n",
              "      <td>5249.701658</td>\n",
              "      <td>1467.197150</td>\n",
              "      <td>12.376402</td>\n",
              "      <td>10.061653</td>\n",
              "      <td>0.030575</td>\n",
              "      <td>1502.006571</td>\n",
              "      <td>9.906250</td>\n",
              "      <td>0.104389</td>\n",
              "      <td>29.500620</td>\n",
              "      <td>0.067310</td>\n",
              "      <td>0.434836</td>\n",
              "    </tr>\n",
              "    <tr>\n",
              "      <th>min</th>\n",
              "      <td>1.000000</td>\n",
              "      <td>2522.000000</td>\n",
              "      <td>74.133114</td>\n",
              "      <td>34.409894</td>\n",
              "      <td>0.676647</td>\n",
              "      <td>2579.000000</td>\n",
              "      <td>56.666658</td>\n",
              "      <td>0.383239</td>\n",
              "      <td>197.015000</td>\n",
              "      <td>0.174590</td>\n",
              "      <td>1.358128</td>\n",
              "    </tr>\n",
              "    <tr>\n",
              "      <th>25%</th>\n",
              "      <td>4547.000000</td>\n",
              "      <td>5962.000000</td>\n",
              "      <td>145.675910</td>\n",
              "      <td>51.393151</td>\n",
              "      <td>0.891617</td>\n",
              "      <td>6125.000000</td>\n",
              "      <td>87.126656</td>\n",
              "      <td>0.538530</td>\n",
              "      <td>333.990000</td>\n",
              "      <td>0.650962</td>\n",
              "      <td>2.208527</td>\n",
              "    </tr>\n",
              "    <tr>\n",
              "      <th>50%</th>\n",
              "      <td>9093.000000</td>\n",
              "      <td>6660.000000</td>\n",
              "      <td>153.883750</td>\n",
              "      <td>55.724288</td>\n",
              "      <td>0.923259</td>\n",
              "      <td>6843.000000</td>\n",
              "      <td>92.085696</td>\n",
              "      <td>0.601194</td>\n",
              "      <td>353.088000</td>\n",
              "      <td>0.701941</td>\n",
              "      <td>2.602966</td>\n",
              "    </tr>\n",
              "    <tr>\n",
              "      <th>75%</th>\n",
              "      <td>13639.000000</td>\n",
              "      <td>8423.000000</td>\n",
              "      <td>160.056214</td>\n",
              "      <td>70.156593</td>\n",
              "      <td>0.941372</td>\n",
              "      <td>8645.000000</td>\n",
              "      <td>103.559146</td>\n",
              "      <td>0.695664</td>\n",
              "      <td>373.003000</td>\n",
              "      <td>0.769280</td>\n",
              "      <td>2.964101</td>\n",
              "    </tr>\n",
              "    <tr>\n",
              "      <th>max</th>\n",
              "      <td>18185.000000</td>\n",
              "      <td>10210.000000</td>\n",
              "      <td>183.211434</td>\n",
              "      <td>82.550762</td>\n",
              "      <td>0.966774</td>\n",
              "      <td>11008.000000</td>\n",
              "      <td>114.016559</td>\n",
              "      <td>0.886573</td>\n",
              "      <td>508.511000</td>\n",
              "      <td>0.904748</td>\n",
              "      <td>3.911845</td>\n",
              "    </tr>\n",
              "  </tbody>\n",
              "</table>\n",
              "</div>\n",
              "      <button class=\"colab-df-convert\" onclick=\"convertToInteractive('df-f2b598f6-e19d-4f7e-92f5-1c13b542132e')\"\n",
              "              title=\"Convert this dataframe to an interactive table.\"\n",
              "              style=\"display:none;\">\n",
              "        \n",
              "  <svg xmlns=\"http://www.w3.org/2000/svg\" height=\"24px\"viewBox=\"0 0 24 24\"\n",
              "       width=\"24px\">\n",
              "    <path d=\"M0 0h24v24H0V0z\" fill=\"none\"/>\n",
              "    <path d=\"M18.56 5.44l.94 2.06.94-2.06 2.06-.94-2.06-.94-.94-2.06-.94 2.06-2.06.94zm-11 1L8.5 8.5l.94-2.06 2.06-.94-2.06-.94L8.5 2.5l-.94 2.06-2.06.94zm10 10l.94 2.06.94-2.06 2.06-.94-2.06-.94-.94-2.06-.94 2.06-2.06.94z\"/><path d=\"M17.41 7.96l-1.37-1.37c-.4-.4-.92-.59-1.43-.59-.52 0-1.04.2-1.43.59L10.3 9.45l-7.72 7.72c-.78.78-.78 2.05 0 2.83L4 21.41c.39.39.9.59 1.41.59.51 0 1.02-.2 1.41-.59l7.78-7.78 2.81-2.81c.8-.78.8-2.07 0-2.86zM5.41 20L4 18.59l7.72-7.72 1.47 1.35L5.41 20z\"/>\n",
              "  </svg>\n",
              "      </button>\n",
              "      \n",
              "  <style>\n",
              "    .colab-df-container {\n",
              "      display:flex;\n",
              "      flex-wrap:wrap;\n",
              "      gap: 12px;\n",
              "    }\n",
              "\n",
              "    .colab-df-convert {\n",
              "      background-color: #E8F0FE;\n",
              "      border: none;\n",
              "      border-radius: 50%;\n",
              "      cursor: pointer;\n",
              "      display: none;\n",
              "      fill: #1967D2;\n",
              "      height: 32px;\n",
              "      padding: 0 0 0 0;\n",
              "      width: 32px;\n",
              "    }\n",
              "\n",
              "    .colab-df-convert:hover {\n",
              "      background-color: #E2EBFA;\n",
              "      box-shadow: 0px 1px 2px rgba(60, 64, 67, 0.3), 0px 1px 3px 1px rgba(60, 64, 67, 0.15);\n",
              "      fill: #174EA6;\n",
              "    }\n",
              "\n",
              "    [theme=dark] .colab-df-convert {\n",
              "      background-color: #3B4455;\n",
              "      fill: #D2E3FC;\n",
              "    }\n",
              "\n",
              "    [theme=dark] .colab-df-convert:hover {\n",
              "      background-color: #434B5C;\n",
              "      box-shadow: 0px 1px 3px 1px rgba(0, 0, 0, 0.15);\n",
              "      filter: drop-shadow(0px 1px 2px rgba(0, 0, 0, 0.3));\n",
              "      fill: #FFFFFF;\n",
              "    }\n",
              "  </style>\n",
              "\n",
              "      <script>\n",
              "        const buttonEl =\n",
              "          document.querySelector('#df-f2b598f6-e19d-4f7e-92f5-1c13b542132e button.colab-df-convert');\n",
              "        buttonEl.style.display =\n",
              "          google.colab.kernel.accessAllowed ? 'block' : 'none';\n",
              "\n",
              "        async function convertToInteractive(key) {\n",
              "          const element = document.querySelector('#df-f2b598f6-e19d-4f7e-92f5-1c13b542132e');\n",
              "          const dataTable =\n",
              "            await google.colab.kernel.invokeFunction('convertToInteractive',\n",
              "                                                     [key], {});\n",
              "          if (!dataTable) return;\n",
              "\n",
              "          const docLinkHtml = 'Like what you see? Visit the ' +\n",
              "            '<a target=\"_blank\" href=https://colab.research.google.com/notebooks/data_table.ipynb>data table notebook</a>'\n",
              "            + ' to learn more about interactive tables.';\n",
              "          element.innerHTML = '';\n",
              "          dataTable['output_type'] = 'display_data';\n",
              "          await google.colab.output.renderOutput(dataTable, element);\n",
              "          const docLink = document.createElement('div');\n",
              "          docLink.innerHTML = docLinkHtml;\n",
              "          element.appendChild(docLink);\n",
              "        }\n",
              "      </script>\n",
              "    </div>\n",
              "  </div>\n",
              "  "
            ]
          },
          "metadata": {},
          "execution_count": 10
        }
      ],
      "source": [
        "#deskripsi data\n",
        "rice_df.describe()"
      ]
    },
    {
      "cell_type": "code",
      "execution_count": 11,
      "metadata": {
        "colab": {
          "base_uri": "https://localhost:8080/",
          "height": 458
        },
        "id": "H-mNk5NZYZMm",
        "outputId": "70c0f208-ed45-43a5-aebe-036e06b838fa"
      },
      "outputs": [
        {
          "output_type": "execute_result",
          "data": {
            "text/plain": [
              "                       id      Area  MajorAxisLength  MinorAxisLength  \\\n",
              "id               1.000000  0.709155         0.464022         0.637148   \n",
              "Area             0.709155  1.000000         0.599939         0.930215   \n",
              "MajorAxisLength  0.464022  0.599939         1.000000         0.273211   \n",
              "MinorAxisLength  0.637148  0.930215         0.273211         1.000000   \n",
              "Eccentricity    -0.347816 -0.550073         0.295717        -0.808640   \n",
              "ConvexArea       0.707600  0.999362         0.602061         0.928992   \n",
              "EquivDiameter    0.706333  0.998158         0.618002         0.923790   \n",
              "Extent           0.149924  0.230541        -0.073549         0.308541   \n",
              "Perimeter        0.628830  0.881540         0.870178         0.674249   \n",
              "Roundness        0.430033  0.620490        -0.202566         0.834398   \n",
              "AspectRation    -0.382648 -0.623979         0.240471        -0.860516   \n",
              "\n",
              "                 Eccentricity  ConvexArea  EquivDiameter    Extent  Perimeter  \\\n",
              "id                  -0.347816    0.707600       0.706333  0.149924   0.628830   \n",
              "Area                -0.550073    0.999362       0.998158  0.230541   0.881540   \n",
              "MajorAxisLength      0.295717    0.602061       0.618002 -0.073549   0.870178   \n",
              "MinorAxisLength     -0.808640    0.928992       0.923790  0.308541   0.674249   \n",
              "Eccentricity         1.000000   -0.547896      -0.534688 -0.329954  -0.165915   \n",
              "ConvexArea          -0.547896    1.000000       0.997403  0.227359   0.886987   \n",
              "EquivDiameter       -0.534688    0.997403       1.000000  0.225944   0.891567   \n",
              "Extent              -0.329954    0.227359       0.225944  1.000000   0.073227   \n",
              "Perimeter           -0.165915    0.886987       0.891567  0.073227   1.000000   \n",
              "Roundness           -0.903657    0.610236       0.607432  0.366793   0.186063   \n",
              "AspectRation         0.950301   -0.621472      -0.609957 -0.350875  -0.227256   \n",
              "\n",
              "                 Roundness  AspectRation  \n",
              "id                0.430033     -0.382648  \n",
              "Area              0.620490     -0.623979  \n",
              "MajorAxisLength  -0.202566      0.240471  \n",
              "MinorAxisLength   0.834398     -0.860516  \n",
              "Eccentricity     -0.903657      0.950301  \n",
              "ConvexArea        0.610236     -0.621472  \n",
              "EquivDiameter     0.607432     -0.609957  \n",
              "Extent            0.366793     -0.350875  \n",
              "Perimeter         0.186063     -0.227256  \n",
              "Roundness         1.000000     -0.947875  \n",
              "AspectRation     -0.947875      1.000000  "
            ],
            "text/html": [
              "\n",
              "  <div id=\"df-61a01915-5738-40ea-b1ab-0d61543ab0ad\">\n",
              "    <div class=\"colab-df-container\">\n",
              "      <div>\n",
              "<style scoped>\n",
              "    .dataframe tbody tr th:only-of-type {\n",
              "        vertical-align: middle;\n",
              "    }\n",
              "\n",
              "    .dataframe tbody tr th {\n",
              "        vertical-align: top;\n",
              "    }\n",
              "\n",
              "    .dataframe thead th {\n",
              "        text-align: right;\n",
              "    }\n",
              "</style>\n",
              "<table border=\"1\" class=\"dataframe\">\n",
              "  <thead>\n",
              "    <tr style=\"text-align: right;\">\n",
              "      <th></th>\n",
              "      <th>id</th>\n",
              "      <th>Area</th>\n",
              "      <th>MajorAxisLength</th>\n",
              "      <th>MinorAxisLength</th>\n",
              "      <th>Eccentricity</th>\n",
              "      <th>ConvexArea</th>\n",
              "      <th>EquivDiameter</th>\n",
              "      <th>Extent</th>\n",
              "      <th>Perimeter</th>\n",
              "      <th>Roundness</th>\n",
              "      <th>AspectRation</th>\n",
              "    </tr>\n",
              "  </thead>\n",
              "  <tbody>\n",
              "    <tr>\n",
              "      <th>id</th>\n",
              "      <td>1.000000</td>\n",
              "      <td>0.709155</td>\n",
              "      <td>0.464022</td>\n",
              "      <td>0.637148</td>\n",
              "      <td>-0.347816</td>\n",
              "      <td>0.707600</td>\n",
              "      <td>0.706333</td>\n",
              "      <td>0.149924</td>\n",
              "      <td>0.628830</td>\n",
              "      <td>0.430033</td>\n",
              "      <td>-0.382648</td>\n",
              "    </tr>\n",
              "    <tr>\n",
              "      <th>Area</th>\n",
              "      <td>0.709155</td>\n",
              "      <td>1.000000</td>\n",
              "      <td>0.599939</td>\n",
              "      <td>0.930215</td>\n",
              "      <td>-0.550073</td>\n",
              "      <td>0.999362</td>\n",
              "      <td>0.998158</td>\n",
              "      <td>0.230541</td>\n",
              "      <td>0.881540</td>\n",
              "      <td>0.620490</td>\n",
              "      <td>-0.623979</td>\n",
              "    </tr>\n",
              "    <tr>\n",
              "      <th>MajorAxisLength</th>\n",
              "      <td>0.464022</td>\n",
              "      <td>0.599939</td>\n",
              "      <td>1.000000</td>\n",
              "      <td>0.273211</td>\n",
              "      <td>0.295717</td>\n",
              "      <td>0.602061</td>\n",
              "      <td>0.618002</td>\n",
              "      <td>-0.073549</td>\n",
              "      <td>0.870178</td>\n",
              "      <td>-0.202566</td>\n",
              "      <td>0.240471</td>\n",
              "    </tr>\n",
              "    <tr>\n",
              "      <th>MinorAxisLength</th>\n",
              "      <td>0.637148</td>\n",
              "      <td>0.930215</td>\n",
              "      <td>0.273211</td>\n",
              "      <td>1.000000</td>\n",
              "      <td>-0.808640</td>\n",
              "      <td>0.928992</td>\n",
              "      <td>0.923790</td>\n",
              "      <td>0.308541</td>\n",
              "      <td>0.674249</td>\n",
              "      <td>0.834398</td>\n",
              "      <td>-0.860516</td>\n",
              "    </tr>\n",
              "    <tr>\n",
              "      <th>Eccentricity</th>\n",
              "      <td>-0.347816</td>\n",
              "      <td>-0.550073</td>\n",
              "      <td>0.295717</td>\n",
              "      <td>-0.808640</td>\n",
              "      <td>1.000000</td>\n",
              "      <td>-0.547896</td>\n",
              "      <td>-0.534688</td>\n",
              "      <td>-0.329954</td>\n",
              "      <td>-0.165915</td>\n",
              "      <td>-0.903657</td>\n",
              "      <td>0.950301</td>\n",
              "    </tr>\n",
              "    <tr>\n",
              "      <th>ConvexArea</th>\n",
              "      <td>0.707600</td>\n",
              "      <td>0.999362</td>\n",
              "      <td>0.602061</td>\n",
              "      <td>0.928992</td>\n",
              "      <td>-0.547896</td>\n",
              "      <td>1.000000</td>\n",
              "      <td>0.997403</td>\n",
              "      <td>0.227359</td>\n",
              "      <td>0.886987</td>\n",
              "      <td>0.610236</td>\n",
              "      <td>-0.621472</td>\n",
              "    </tr>\n",
              "    <tr>\n",
              "      <th>EquivDiameter</th>\n",
              "      <td>0.706333</td>\n",
              "      <td>0.998158</td>\n",
              "      <td>0.618002</td>\n",
              "      <td>0.923790</td>\n",
              "      <td>-0.534688</td>\n",
              "      <td>0.997403</td>\n",
              "      <td>1.000000</td>\n",
              "      <td>0.225944</td>\n",
              "      <td>0.891567</td>\n",
              "      <td>0.607432</td>\n",
              "      <td>-0.609957</td>\n",
              "    </tr>\n",
              "    <tr>\n",
              "      <th>Extent</th>\n",
              "      <td>0.149924</td>\n",
              "      <td>0.230541</td>\n",
              "      <td>-0.073549</td>\n",
              "      <td>0.308541</td>\n",
              "      <td>-0.329954</td>\n",
              "      <td>0.227359</td>\n",
              "      <td>0.225944</td>\n",
              "      <td>1.000000</td>\n",
              "      <td>0.073227</td>\n",
              "      <td>0.366793</td>\n",
              "      <td>-0.350875</td>\n",
              "    </tr>\n",
              "    <tr>\n",
              "      <th>Perimeter</th>\n",
              "      <td>0.628830</td>\n",
              "      <td>0.881540</td>\n",
              "      <td>0.870178</td>\n",
              "      <td>0.674249</td>\n",
              "      <td>-0.165915</td>\n",
              "      <td>0.886987</td>\n",
              "      <td>0.891567</td>\n",
              "      <td>0.073227</td>\n",
              "      <td>1.000000</td>\n",
              "      <td>0.186063</td>\n",
              "      <td>-0.227256</td>\n",
              "    </tr>\n",
              "    <tr>\n",
              "      <th>Roundness</th>\n",
              "      <td>0.430033</td>\n",
              "      <td>0.620490</td>\n",
              "      <td>-0.202566</td>\n",
              "      <td>0.834398</td>\n",
              "      <td>-0.903657</td>\n",
              "      <td>0.610236</td>\n",
              "      <td>0.607432</td>\n",
              "      <td>0.366793</td>\n",
              "      <td>0.186063</td>\n",
              "      <td>1.000000</td>\n",
              "      <td>-0.947875</td>\n",
              "    </tr>\n",
              "    <tr>\n",
              "      <th>AspectRation</th>\n",
              "      <td>-0.382648</td>\n",
              "      <td>-0.623979</td>\n",
              "      <td>0.240471</td>\n",
              "      <td>-0.860516</td>\n",
              "      <td>0.950301</td>\n",
              "      <td>-0.621472</td>\n",
              "      <td>-0.609957</td>\n",
              "      <td>-0.350875</td>\n",
              "      <td>-0.227256</td>\n",
              "      <td>-0.947875</td>\n",
              "      <td>1.000000</td>\n",
              "    </tr>\n",
              "  </tbody>\n",
              "</table>\n",
              "</div>\n",
              "      <button class=\"colab-df-convert\" onclick=\"convertToInteractive('df-61a01915-5738-40ea-b1ab-0d61543ab0ad')\"\n",
              "              title=\"Convert this dataframe to an interactive table.\"\n",
              "              style=\"display:none;\">\n",
              "        \n",
              "  <svg xmlns=\"http://www.w3.org/2000/svg\" height=\"24px\"viewBox=\"0 0 24 24\"\n",
              "       width=\"24px\">\n",
              "    <path d=\"M0 0h24v24H0V0z\" fill=\"none\"/>\n",
              "    <path d=\"M18.56 5.44l.94 2.06.94-2.06 2.06-.94-2.06-.94-.94-2.06-.94 2.06-2.06.94zm-11 1L8.5 8.5l.94-2.06 2.06-.94-2.06-.94L8.5 2.5l-.94 2.06-2.06.94zm10 10l.94 2.06.94-2.06 2.06-.94-2.06-.94-.94-2.06-.94 2.06-2.06.94z\"/><path d=\"M17.41 7.96l-1.37-1.37c-.4-.4-.92-.59-1.43-.59-.52 0-1.04.2-1.43.59L10.3 9.45l-7.72 7.72c-.78.78-.78 2.05 0 2.83L4 21.41c.39.39.9.59 1.41.59.51 0 1.02-.2 1.41-.59l7.78-7.78 2.81-2.81c.8-.78.8-2.07 0-2.86zM5.41 20L4 18.59l7.72-7.72 1.47 1.35L5.41 20z\"/>\n",
              "  </svg>\n",
              "      </button>\n",
              "      \n",
              "  <style>\n",
              "    .colab-df-container {\n",
              "      display:flex;\n",
              "      flex-wrap:wrap;\n",
              "      gap: 12px;\n",
              "    }\n",
              "\n",
              "    .colab-df-convert {\n",
              "      background-color: #E8F0FE;\n",
              "      border: none;\n",
              "      border-radius: 50%;\n",
              "      cursor: pointer;\n",
              "      display: none;\n",
              "      fill: #1967D2;\n",
              "      height: 32px;\n",
              "      padding: 0 0 0 0;\n",
              "      width: 32px;\n",
              "    }\n",
              "\n",
              "    .colab-df-convert:hover {\n",
              "      background-color: #E2EBFA;\n",
              "      box-shadow: 0px 1px 2px rgba(60, 64, 67, 0.3), 0px 1px 3px 1px rgba(60, 64, 67, 0.15);\n",
              "      fill: #174EA6;\n",
              "    }\n",
              "\n",
              "    [theme=dark] .colab-df-convert {\n",
              "      background-color: #3B4455;\n",
              "      fill: #D2E3FC;\n",
              "    }\n",
              "\n",
              "    [theme=dark] .colab-df-convert:hover {\n",
              "      background-color: #434B5C;\n",
              "      box-shadow: 0px 1px 3px 1px rgba(0, 0, 0, 0.15);\n",
              "      filter: drop-shadow(0px 1px 2px rgba(0, 0, 0, 0.3));\n",
              "      fill: #FFFFFF;\n",
              "    }\n",
              "  </style>\n",
              "\n",
              "      <script>\n",
              "        const buttonEl =\n",
              "          document.querySelector('#df-61a01915-5738-40ea-b1ab-0d61543ab0ad button.colab-df-convert');\n",
              "        buttonEl.style.display =\n",
              "          google.colab.kernel.accessAllowed ? 'block' : 'none';\n",
              "\n",
              "        async function convertToInteractive(key) {\n",
              "          const element = document.querySelector('#df-61a01915-5738-40ea-b1ab-0d61543ab0ad');\n",
              "          const dataTable =\n",
              "            await google.colab.kernel.invokeFunction('convertToInteractive',\n",
              "                                                     [key], {});\n",
              "          if (!dataTable) return;\n",
              "\n",
              "          const docLinkHtml = 'Like what you see? Visit the ' +\n",
              "            '<a target=\"_blank\" href=https://colab.research.google.com/notebooks/data_table.ipynb>data table notebook</a>'\n",
              "            + ' to learn more about interactive tables.';\n",
              "          element.innerHTML = '';\n",
              "          dataTable['output_type'] = 'display_data';\n",
              "          await google.colab.output.renderOutput(dataTable, element);\n",
              "          const docLink = document.createElement('div');\n",
              "          docLink.innerHTML = docLinkHtml;\n",
              "          element.appendChild(docLink);\n",
              "        }\n",
              "      </script>\n",
              "    </div>\n",
              "  </div>\n",
              "  "
            ]
          },
          "metadata": {},
          "execution_count": 11
        }
      ],
      "source": [
        "#correlation matrix\n",
        "#korelasi antar kolom\n",
        "rice_df.corr()"
      ]
    },
    {
      "cell_type": "code",
      "execution_count": 12,
      "metadata": {
        "id": "-Gzah_oYYn30"
      },
      "outputs": [],
      "source": [
        "#stroke dataset: dataset visualization\n",
        "#output dari visualisasi data akan siarahkan ke notebook\n",
        "import matplotlib.pyplot as plt #visualisasi data\n",
        "import seaborn as sns #visualisasi data\n",
        "\n",
        "%matplotlib inline"
      ]
    },
    {
      "cell_type": "code",
      "execution_count": 13,
      "metadata": {
        "id": "O3RT4Y-QaeQZ"
      },
      "outputs": [],
      "source": [
        "#stroke dataset: classification models\n",
        "#import modules\n",
        "from sklearn.model_selection import train_test_split #pembagi dataset menjadi training dan testing set\n",
        "from sklearn.metrics import accuracy_score, recall_score, confusion_matrix, classification_report, f1_score, precision_score #evaluasi performa model"
      ]
    },
    {
      "cell_type": "code",
      "source": [],
      "metadata": {
        "id": "GiAOwPRMDoGc"
      },
      "execution_count": 13,
      "outputs": []
    },
    {
      "cell_type": "code",
      "execution_count": 14,
      "metadata": {
        "colab": {
          "base_uri": "https://localhost:8080/",
          "height": 206
        },
        "id": "goaWc5JUat_d",
        "outputId": "67f0adec-34d6-49fc-96b8-819d43036f9c"
      },
      "outputs": [
        {
          "output_type": "execute_result",
          "data": {
            "text/plain": [
              "   id  Area  MajorAxisLength  MinorAxisLength  Eccentricity  ConvexArea  \\\n",
              "0   1  4537        92.229316        64.012769      0.719916        4677   \n",
              "1   2  2872        74.691881        51.400454      0.725553        3015   \n",
              "2   3  3048        76.293164        52.043491      0.731211        3132   \n",
              "3   4  3073        77.033628        51.928487      0.738639        3157   \n",
              "4   5  3693        85.124785        56.374021      0.749282        3802   \n",
              "\n",
              "   EquivDiameter    Extent  Perimeter  Roundness  AspectRation  \n",
              "0      76.004525  0.657536    273.085   0.764510      1.440796  \n",
              "1      60.471018  0.713009    208.317   0.831658      1.453137  \n",
              "2      62.296341  0.759153    210.012   0.868434      1.465950  \n",
              "3      62.551300  0.783529    210.657   0.870203      1.483456  \n",
              "4      68.571668  0.769375    230.332   0.874743      1.510000  "
            ],
            "text/html": [
              "\n",
              "  <div id=\"df-0277a521-ad8e-484b-b1f8-79a405216921\">\n",
              "    <div class=\"colab-df-container\">\n",
              "      <div>\n",
              "<style scoped>\n",
              "    .dataframe tbody tr th:only-of-type {\n",
              "        vertical-align: middle;\n",
              "    }\n",
              "\n",
              "    .dataframe tbody tr th {\n",
              "        vertical-align: top;\n",
              "    }\n",
              "\n",
              "    .dataframe thead th {\n",
              "        text-align: right;\n",
              "    }\n",
              "</style>\n",
              "<table border=\"1\" class=\"dataframe\">\n",
              "  <thead>\n",
              "    <tr style=\"text-align: right;\">\n",
              "      <th></th>\n",
              "      <th>id</th>\n",
              "      <th>Area</th>\n",
              "      <th>MajorAxisLength</th>\n",
              "      <th>MinorAxisLength</th>\n",
              "      <th>Eccentricity</th>\n",
              "      <th>ConvexArea</th>\n",
              "      <th>EquivDiameter</th>\n",
              "      <th>Extent</th>\n",
              "      <th>Perimeter</th>\n",
              "      <th>Roundness</th>\n",
              "      <th>AspectRation</th>\n",
              "    </tr>\n",
              "  </thead>\n",
              "  <tbody>\n",
              "    <tr>\n",
              "      <th>0</th>\n",
              "      <td>1</td>\n",
              "      <td>4537</td>\n",
              "      <td>92.229316</td>\n",
              "      <td>64.012769</td>\n",
              "      <td>0.719916</td>\n",
              "      <td>4677</td>\n",
              "      <td>76.004525</td>\n",
              "      <td>0.657536</td>\n",
              "      <td>273.085</td>\n",
              "      <td>0.764510</td>\n",
              "      <td>1.440796</td>\n",
              "    </tr>\n",
              "    <tr>\n",
              "      <th>1</th>\n",
              "      <td>2</td>\n",
              "      <td>2872</td>\n",
              "      <td>74.691881</td>\n",
              "      <td>51.400454</td>\n",
              "      <td>0.725553</td>\n",
              "      <td>3015</td>\n",
              "      <td>60.471018</td>\n",
              "      <td>0.713009</td>\n",
              "      <td>208.317</td>\n",
              "      <td>0.831658</td>\n",
              "      <td>1.453137</td>\n",
              "    </tr>\n",
              "    <tr>\n",
              "      <th>2</th>\n",
              "      <td>3</td>\n",
              "      <td>3048</td>\n",
              "      <td>76.293164</td>\n",
              "      <td>52.043491</td>\n",
              "      <td>0.731211</td>\n",
              "      <td>3132</td>\n",
              "      <td>62.296341</td>\n",
              "      <td>0.759153</td>\n",
              "      <td>210.012</td>\n",
              "      <td>0.868434</td>\n",
              "      <td>1.465950</td>\n",
              "    </tr>\n",
              "    <tr>\n",
              "      <th>3</th>\n",
              "      <td>4</td>\n",
              "      <td>3073</td>\n",
              "      <td>77.033628</td>\n",
              "      <td>51.928487</td>\n",
              "      <td>0.738639</td>\n",
              "      <td>3157</td>\n",
              "      <td>62.551300</td>\n",
              "      <td>0.783529</td>\n",
              "      <td>210.657</td>\n",
              "      <td>0.870203</td>\n",
              "      <td>1.483456</td>\n",
              "    </tr>\n",
              "    <tr>\n",
              "      <th>4</th>\n",
              "      <td>5</td>\n",
              "      <td>3693</td>\n",
              "      <td>85.124785</td>\n",
              "      <td>56.374021</td>\n",
              "      <td>0.749282</td>\n",
              "      <td>3802</td>\n",
              "      <td>68.571668</td>\n",
              "      <td>0.769375</td>\n",
              "      <td>230.332</td>\n",
              "      <td>0.874743</td>\n",
              "      <td>1.510000</td>\n",
              "    </tr>\n",
              "  </tbody>\n",
              "</table>\n",
              "</div>\n",
              "      <button class=\"colab-df-convert\" onclick=\"convertToInteractive('df-0277a521-ad8e-484b-b1f8-79a405216921')\"\n",
              "              title=\"Convert this dataframe to an interactive table.\"\n",
              "              style=\"display:none;\">\n",
              "        \n",
              "  <svg xmlns=\"http://www.w3.org/2000/svg\" height=\"24px\"viewBox=\"0 0 24 24\"\n",
              "       width=\"24px\">\n",
              "    <path d=\"M0 0h24v24H0V0z\" fill=\"none\"/>\n",
              "    <path d=\"M18.56 5.44l.94 2.06.94-2.06 2.06-.94-2.06-.94-.94-2.06-.94 2.06-2.06.94zm-11 1L8.5 8.5l.94-2.06 2.06-.94-2.06-.94L8.5 2.5l-.94 2.06-2.06.94zm10 10l.94 2.06.94-2.06 2.06-.94-2.06-.94-.94-2.06-.94 2.06-2.06.94z\"/><path d=\"M17.41 7.96l-1.37-1.37c-.4-.4-.92-.59-1.43-.59-.52 0-1.04.2-1.43.59L10.3 9.45l-7.72 7.72c-.78.78-.78 2.05 0 2.83L4 21.41c.39.39.9.59 1.41.59.51 0 1.02-.2 1.41-.59l7.78-7.78 2.81-2.81c.8-.78.8-2.07 0-2.86zM5.41 20L4 18.59l7.72-7.72 1.47 1.35L5.41 20z\"/>\n",
              "  </svg>\n",
              "      </button>\n",
              "      \n",
              "  <style>\n",
              "    .colab-df-container {\n",
              "      display:flex;\n",
              "      flex-wrap:wrap;\n",
              "      gap: 12px;\n",
              "    }\n",
              "\n",
              "    .colab-df-convert {\n",
              "      background-color: #E8F0FE;\n",
              "      border: none;\n",
              "      border-radius: 50%;\n",
              "      cursor: pointer;\n",
              "      display: none;\n",
              "      fill: #1967D2;\n",
              "      height: 32px;\n",
              "      padding: 0 0 0 0;\n",
              "      width: 32px;\n",
              "    }\n",
              "\n",
              "    .colab-df-convert:hover {\n",
              "      background-color: #E2EBFA;\n",
              "      box-shadow: 0px 1px 2px rgba(60, 64, 67, 0.3), 0px 1px 3px 1px rgba(60, 64, 67, 0.15);\n",
              "      fill: #174EA6;\n",
              "    }\n",
              "\n",
              "    [theme=dark] .colab-df-convert {\n",
              "      background-color: #3B4455;\n",
              "      fill: #D2E3FC;\n",
              "    }\n",
              "\n",
              "    [theme=dark] .colab-df-convert:hover {\n",
              "      background-color: #434B5C;\n",
              "      box-shadow: 0px 1px 3px 1px rgba(0, 0, 0, 0.15);\n",
              "      filter: drop-shadow(0px 1px 2px rgba(0, 0, 0, 0.3));\n",
              "      fill: #FFFFFF;\n",
              "    }\n",
              "  </style>\n",
              "\n",
              "      <script>\n",
              "        const buttonEl =\n",
              "          document.querySelector('#df-0277a521-ad8e-484b-b1f8-79a405216921 button.colab-df-convert');\n",
              "        buttonEl.style.display =\n",
              "          google.colab.kernel.accessAllowed ? 'block' : 'none';\n",
              "\n",
              "        async function convertToInteractive(key) {\n",
              "          const element = document.querySelector('#df-0277a521-ad8e-484b-b1f8-79a405216921');\n",
              "          const dataTable =\n",
              "            await google.colab.kernel.invokeFunction('convertToInteractive',\n",
              "                                                     [key], {});\n",
              "          if (!dataTable) return;\n",
              "\n",
              "          const docLinkHtml = 'Like what you see? Visit the ' +\n",
              "            '<a target=\"_blank\" href=https://colab.research.google.com/notebooks/data_table.ipynb>data table notebook</a>'\n",
              "            + ' to learn more about interactive tables.';\n",
              "          element.innerHTML = '';\n",
              "          dataTable['output_type'] = 'display_data';\n",
              "          await google.colab.output.renderOutput(dataTable, element);\n",
              "          const docLink = document.createElement('div');\n",
              "          docLink.innerHTML = docLinkHtml;\n",
              "          element.appendChild(docLink);\n",
              "        }\n",
              "      </script>\n",
              "    </div>\n",
              "  </div>\n",
              "  "
            ]
          },
          "metadata": {},
          "execution_count": 14
        }
      ],
      "source": [
        "#dataset: features & class label\n",
        "X = rice_df.drop(columns='Class') #menempatkan features ke dalam variable X\n",
        "X.head() #tampilkan 5 baris baris pertama"
      ]
    },
    {
      "cell_type": "code",
      "execution_count": 15,
      "metadata": {
        "colab": {
          "base_uri": "https://localhost:8080/"
        },
        "id": "LSsILHY5bYRd",
        "outputId": "96c7fb6c-c2d7-47de-e77c-ce259f63c74f"
      },
      "outputs": [
        {
          "output_type": "execute_result",
          "data": {
            "text/plain": [
              "0    jasmine\n",
              "1    jasmine\n",
              "2    jasmine\n",
              "3    jasmine\n",
              "4    jasmine\n",
              "Name: Class, dtype: object"
            ]
          },
          "metadata": {},
          "execution_count": 15
        }
      ],
      "source": [
        "y = rice_df['Class'] #menempatkan class label (target) ke dalam variabel y\n",
        "y.head() #tampilkan 5 baris pertama"
      ]
    },
    {
      "cell_type": "code",
      "execution_count": 16,
      "metadata": {
        "colab": {
          "base_uri": "https://localhost:8080/"
        },
        "id": "5-cAEBoub0o5",
        "outputId": "76b0a790-cfc3-4506-c0c3-6894a2df9b8a"
      },
      "outputs": [
        {
          "output_type": "stream",
          "name": "stdout",
          "text": [
            "training dataset\n",
            "          id   Area  MajorAxisLength  MinorAxisLength  Eccentricity  \\\n",
            "16897  16898   8443       158.591080        68.518664      0.901852   \n",
            "651      652   5796       139.001187        54.882797      0.918751   \n",
            "12527  12528   7135       140.689335        65.439235      0.885241   \n",
            "5765    5766   6759       161.445243        54.298019      0.941746   \n",
            "8388    8389   6218       126.829004        63.032650      0.867757   \n",
            "...      ...    ...              ...              ...           ...   \n",
            "9372    9373   6532       166.236132        51.421649      0.950955   \n",
            "7291    7292   6377       159.218398        51.986057      0.945194   \n",
            "17728  17729  10131       176.412300        73.691878      0.908573   \n",
            "7293    7294   5607       148.440743        48.463357      0.945203   \n",
            "17673  17674   8947       165.893285        69.534678      0.907916   \n",
            "\n",
            "       ConvexArea  EquivDiameter    Extent  Perimeter  Roundness  AspectRation  \n",
            "16897        8728     103.682021  0.584574    376.131   0.749943      2.314568  \n",
            "651          5965      85.905159  0.775592    323.984   0.693891      2.532691  \n",
            "12527        7294      95.312980  0.584932    338.238   0.783717      2.149923  \n",
            "5765         6929      92.767592  0.480179    358.425   0.661143      2.973317  \n",
            "8388         6325      88.977545  0.802633    307.105   0.828489      2.012116  \n",
            "...           ...            ...       ...        ...        ...           ...  \n",
            "9372         6720      91.196495  0.551224    369.082   0.602574      3.232804  \n",
            "7291         6565      90.107983  0.616970    354.079   0.639184      3.062713  \n",
            "17728       10402     113.574600  0.612774    416.495   0.733910      2.393918  \n",
            "7293         5722      84.492924  0.460799    329.340   0.649608      3.062948  \n",
            "17673        9166     106.731786  0.650218    388.012   0.746787      2.385763  \n",
            "\n",
            "[10911 rows x 11 columns]\n",
            "(10911,)\n",
            "\n",
            "testing dataset\n",
            "(7274, 11)\n",
            "(7274,)\n"
          ]
        }
      ],
      "source": [
        "#split the dataset into a training set and a testing set\n",
        "#membagi dataset ke dalam training dan testing set\n",
        "X_train, X_test, y_train, y_test = train_test_split(X, y, test_size=0.4, random_state=10)\n",
        "\n",
        "print('training dataset') \n",
        "print(X_train)\n",
        "print(y_train.shape)\n",
        "print()\n",
        "print('testing dataset')\n",
        "print(X_test.shape)\n",
        "print(y_test.shape)"
      ]
    },
    {
      "cell_type": "code",
      "execution_count": 17,
      "metadata": {
        "id": "F6F-L07dckbI"
      },
      "outputs": [],
      "source": [
        "#K-Nearest Neighbors (knn)\n",
        "from sklearn.neighbors import KNeighborsClassifier"
      ]
    },
    {
      "cell_type": "code",
      "execution_count": 18,
      "metadata": {
        "id": "VOwWsXTwdpcF"
      },
      "outputs": [],
      "source": [
        "k_range = list(range(1,26))\n",
        "scores = []\n",
        "for k in k_range: \n",
        "    model_knn = KNeighborsClassifier(n_neighbors=k) #konfigurasi algoritma\n",
        "    model_knn.fit(X_train, y_train) #training model/classifier\n",
        "    y_pred = model_knn.predict(X_test) #melakukan prediksi\n",
        "    scores.append(accuracy_score(y_test, y_pred)) #evaluasi performa"
      ]
    },
    {
      "cell_type": "code",
      "execution_count": 19,
      "metadata": {
        "colab": {
          "base_uri": "https://localhost:8080/",
          "height": 297
        },
        "id": "I3qNr_SZKVSI",
        "outputId": "303e7e38-b4c7-4aa5-83fc-b7f3c36015e0"
      },
      "outputs": [
        {
          "output_type": "display_data",
          "data": {
            "text/plain": [
              "<Figure size 432x288 with 1 Axes>"
            ],
            "image/png": "[encoded data removed]"
          },
          "metadata": {
            "needs_background": "light"
          }
        }
      ],
      "source": [
        "plt.plot(k_range, scores)\n",
        "plt.xlabel('value of k for KNN')\n",
        "plt.ylabel('Accuracy Score')\n",
        "plt.title('Accuracy Scores for Values of k of K-Neaersr-Neighbors')\n",
        "plt.tight_layout()\n",
        "plt.show()"
      ]
    },
    {
      "cell_type": "code",
      "execution_count": 20,
      "metadata": {
        "id": "jjRZLFKBLIw9"
      },
      "outputs": [],
      "source": [
        "model_knn = KNeighborsClassifier(n_neighbors=3) #konfigurasi algoritma\n",
        "model_knn.fit(X_train,y_train) #training model/classifier\n",
        "y_pred = model_knn.predict(X_test) #melakukan prediksi"
      ]
    },
    {
      "cell_type": "code",
      "execution_count": 21,
      "metadata": {
        "colab": {
          "base_uri": "https://localhost:8080/"
        },
        "id": "hBtA6EDPLtsd",
        "outputId": "7df7a7f4-0e59-44b6-f2f7-57bc439c8e53"
      },
      "outputs": [
        {
          "output_type": "stream",
          "name": "stdout",
          "text": [
            "0.9749793786087435\n"
          ]
        }
      ],
      "source": [
        "#Accuracy score\n",
        "print(accuracy_score(y_test, y_pred)) #evaluasi akurasi"
      ]
    },
    {
      "cell_type": "code",
      "execution_count": 22,
      "metadata": {
        "colab": {
          "base_uri": "https://localhost:8080/"
        },
        "id": "SNT2KPvIL9jo",
        "outputId": "ae098f43-0c88-4db9-a5ca-97ae41364ddf"
      },
      "outputs": [
        {
          "output_type": "stream",
          "name": "stdout",
          "text": [
            "[[3192  165]\n",
            " [  17 3900]]\n"
          ]
        }
      ],
      "source": [
        "#confusion matrix\n",
        "print(confusion_matrix(y_test, y_pred)) #evaluasi confusion matrix"
      ]
    },
    {
      "cell_type": "code",
      "execution_count": 23,
      "metadata": {
        "colab": {
          "base_uri": "https://localhost:8080/"
        },
        "id": "PrRN4MDjMPxZ",
        "outputId": "0aa620c3-23ba-4a80-816c-465afb18bfb2"
      },
      "outputs": [
        {
          "output_type": "stream",
          "name": "stdout",
          "text": [
            "              precision    recall  f1-score   support\n",
            "\n",
            "       Gonen       0.99      0.95      0.97      3357\n",
            "     jasmine       0.96      1.00      0.98      3917\n",
            "\n",
            "    accuracy                           0.97      7274\n",
            "   macro avg       0.98      0.97      0.97      7274\n",
            "weighted avg       0.98      0.97      0.97      7274\n",
            "\n"
          ]
        }
      ],
      "source": [
        "#Classification Report\n",
        "print(classification_report(y_test, y_pred)) #evaluasi klasifikasi"
      ]
    },
    {
      "cell_type": "code",
      "source": [
        "#recall score\n",
        "labels=['Gonen']\n",
        "print(recall_score(y_test, y_pred, average='micro'))"
      ],
      "metadata": {
        "colab": {
          "base_uri": "https://localhost:8080/"
        },
        "id": "nXN8g5j4wEow",
        "outputId": "5d369ae8-4002-449d-c914-c77eec9a260b"
      },
      "execution_count": 24,
      "outputs": [
        {
          "output_type": "stream",
          "name": "stdout",
          "text": [
            "0.9749793786087435\n"
          ]
        }
      ]
    },
    {
      "cell_type": "code",
      "source": [
        "#f1 score\n",
        "labels=['Gonen']\n",
        "print(f1_score(y_test, y_pred, average='micro'))"
      ],
      "metadata": {
        "colab": {
          "base_uri": "https://localhost:8080/"
        },
        "id": "M5RZ4cOuwES-",
        "outputId": "8134aa00-adfd-4700-936c-c0717683f7ce"
      },
      "execution_count": 25,
      "outputs": [
        {
          "output_type": "stream",
          "name": "stdout",
          "text": [
            "0.9749793786087435\n"
          ]
        }
      ]
    },
    {
      "cell_type": "code",
      "source": [
        "#presicion score\n",
        "labels=['Gonen']\n",
        "print(precision_score(y_test, y_pred, average='micro'))"
      ],
      "metadata": {
        "colab": {
          "base_uri": "https://localhost:8080/"
        },
        "id": "n7T94H4KwDuS",
        "outputId": "52b4d7c1-ea05-41c1-8c91-e859dcd03738"
      },
      "execution_count": 26,
      "outputs": [
        {
          "output_type": "stream",
          "name": "stdout",
          "text": [
            "0.9749793786087435\n"
          ]
        }
      ]
    },
    {
      "cell_type": "code",
      "execution_count": 27,
      "metadata": {
        "id": "8Sh3Kn2NMfhw"
      },
      "outputs": [],
      "source": [
        "#logistic regression LR\n",
        "from sklearn.linear_model import LogisticRegression"
      ]
    },
    {
      "cell_type": "code",
      "execution_count": 28,
      "metadata": {
        "id": "qjy96AgBM0Z1"
      },
      "outputs": [],
      "source": [
        "#model_logreg = LogisticRegression()\n",
        "model_logreg = LogisticRegression(solver='liblinear', multi_class='auto')\n",
        "model_logreg.fit(X_train,y_train)\n",
        "y_pred = model_logreg.predict(X_test)"
      ]
    },
    {
      "cell_type": "code",
      "execution_count": 29,
      "metadata": {
        "colab": {
          "base_uri": "https://localhost:8080/"
        },
        "id": "OGaq49N1OJ8l",
        "outputId": "63bab372-ab97-4ba7-f0d9-d42136ee19e8"
      },
      "outputs": [
        {
          "output_type": "stream",
          "name": "stdout",
          "text": [
            "0.9998625240582898\n"
          ]
        }
      ],
      "source": [
        "#Accuracy Score\n",
        "print(accuracy_score(y_test, y_pred))"
      ]
    },
    {
      "cell_type": "code",
      "execution_count": 30,
      "metadata": {
        "colab": {
          "base_uri": "https://localhost:8080/"
        },
        "id": "5mPVVHIgOcUt",
        "outputId": "56c9f553-5e35-4145-d04a-573e271e95d5"
      },
      "outputs": [
        {
          "output_type": "stream",
          "name": "stdout",
          "text": [
            "[[3356    1]\n",
            " [   0 3917]]\n"
          ]
        }
      ],
      "source": [
        "#confussion matrix\n",
        "print(confusion_matrix(y_test, y_pred))"
      ]
    },
    {
      "cell_type": "code",
      "execution_count": 31,
      "metadata": {
        "colab": {
          "base_uri": "https://localhost:8080/"
        },
        "id": "sBdN-BDTOoO1",
        "outputId": "5a7e2797-6b09-4bb9-fff7-cd575d4cbfbc"
      },
      "outputs": [
        {
          "output_type": "stream",
          "name": "stdout",
          "text": [
            "              precision    recall  f1-score   support\n",
            "\n",
            "       Gonen       1.00      1.00      1.00      3357\n",
            "     jasmine       1.00      1.00      1.00      3917\n",
            "\n",
            "    accuracy                           1.00      7274\n",
            "   macro avg       1.00      1.00      1.00      7274\n",
            "weighted avg       1.00      1.00      1.00      7274\n",
            "\n"
          ]
        }
      ],
      "source": [
        "#classification report\n",
        "print(classification_report(y_test, y_pred))"
      ]
    },
    {
      "cell_type": "code",
      "source": [
        "#recall score\n",
        "labels=['Gonen']\n",
        "print(recall_score(y_test, y_pred, average='micro'))"
      ],
      "metadata": {
        "colab": {
          "base_uri": "https://localhost:8080/"
        },
        "id": "y2O-lX3bD-gb",
        "outputId": "6626996c-a195-4d35-b891-c308f43a5cfb"
      },
      "execution_count": 32,
      "outputs": [
        {
          "output_type": "stream",
          "name": "stdout",
          "text": [
            "0.9998625240582898\n"
          ]
        }
      ]
    },
    {
      "cell_type": "code",
      "source": [
        "#f1 score\n",
        "labels=['Gonen']\n",
        "print(f1_score(y_test, y_pred, average='micro'))"
      ],
      "metadata": {
        "colab": {
          "base_uri": "https://localhost:8080/"
        },
        "id": "roTSAAkNH30P",
        "outputId": "b9cb10db-118e-41cb-eeb4-2fac7f163b1a"
      },
      "execution_count": 33,
      "outputs": [
        {
          "output_type": "stream",
          "name": "stdout",
          "text": [
            "0.9998625240582898\n"
          ]
        }
      ]
    },
    {
      "cell_type": "code",
      "source": [
        "#presicion score\n",
        "labels=['Gonen']\n",
        "print(precision_score(y_test, y_pred, average='micro'))"
      ],
      "metadata": {
        "colab": {
          "base_uri": "https://localhost:8080/"
        },
        "id": "VOqlUGukIM4i",
        "outputId": "c9e58858-2434-4bb4-c57f-7ebcfb96b52a"
      },
      "execution_count": 34,
      "outputs": [
        {
          "output_type": "stream",
          "name": "stdout",
          "text": [
            "0.9998625240582898\n"
          ]
        }
      ]
    },
    {
      "cell_type": "code",
      "execution_count": 35,
      "metadata": {
        "id": "oJ8GoIZJO2IC"
      },
      "outputs": [],
      "source": [
        "#support vector classifier (model svm)\n",
        "from sklearn.svm import SVC"
      ]
    },
    {
      "cell_type": "code",
      "execution_count": 36,
      "metadata": {
        "id": "r7MCOVAnPEIA"
      },
      "outputs": [],
      "source": [
        "#model_svc = SVC()\n",
        "model_svc = SVC(gamma='scale')\n",
        "model_svc.fit(X_train, y_train)\n",
        "y_pred = model_svc.predict(X_test)"
      ]
    },
    {
      "cell_type": "code",
      "source": [
        "#Accuracy Score\n",
        "print(accuracy_score(y_test, y_pred))"
      ],
      "metadata": {
        "colab": {
          "base_uri": "https://localhost:8080/"
        },
        "id": "SSwIiyKpwptN",
        "outputId": "ddad9112-ee34-4869-de82-e37a701c3ab7"
      },
      "execution_count": 37,
      "outputs": [
        {
          "output_type": "stream",
          "name": "stdout",
          "text": [
            "0.9718174319494088\n"
          ]
        }
      ]
    },
    {
      "cell_type": "code",
      "source": [
        "#confussion matrix\n",
        "print(confusion_matrix(y_test, y_pred))"
      ],
      "metadata": {
        "colab": {
          "base_uri": "https://localhost:8080/"
        },
        "id": "UBA9XSe-wpcR",
        "outputId": "2e207474-d733-4bc7-d57d-b7b75e1a1b2c"
      },
      "execution_count": 38,
      "outputs": [
        {
          "output_type": "stream",
          "name": "stdout",
          "text": [
            "[[3155  202]\n",
            " [   3 3914]]\n"
          ]
        }
      ]
    },
    {
      "cell_type": "code",
      "source": [
        "#classification report\n",
        "print(classification_report(y_test, y_pred))"
      ],
      "metadata": {
        "colab": {
          "base_uri": "https://localhost:8080/"
        },
        "id": "olqbsk5twpGI",
        "outputId": "866856a7-29db-45b6-efcc-58d30ce57fe5"
      },
      "execution_count": 39,
      "outputs": [
        {
          "output_type": "stream",
          "name": "stdout",
          "text": [
            "              precision    recall  f1-score   support\n",
            "\n",
            "       Gonen       1.00      0.94      0.97      3357\n",
            "     jasmine       0.95      1.00      0.97      3917\n",
            "\n",
            "    accuracy                           0.97      7274\n",
            "   macro avg       0.97      0.97      0.97      7274\n",
            "weighted avg       0.97      0.97      0.97      7274\n",
            "\n"
          ]
        }
      ]
    },
    {
      "cell_type": "code",
      "source": [
        "#recall score\n",
        "labels=['Gonen']\n",
        "print(recall_score(y_test, y_pred, average='micro'))"
      ],
      "metadata": {
        "colab": {
          "base_uri": "https://localhost:8080/"
        },
        "id": "HtytqwBQw6BB",
        "outputId": "513ba4cc-dea5-4cba-8ab7-7414172fbe63"
      },
      "execution_count": 40,
      "outputs": [
        {
          "output_type": "stream",
          "name": "stdout",
          "text": [
            "0.9718174319494088\n"
          ]
        }
      ]
    },
    {
      "cell_type": "code",
      "source": [
        "#f1 score\n",
        "labels=['Gonen']\n",
        "print(f1_score(y_test, y_pred, average='micro'))"
      ],
      "metadata": {
        "colab": {
          "base_uri": "https://localhost:8080/"
        },
        "id": "sIJMun1jw5qY",
        "outputId": "93b3143a-2b58-4651-c8cd-553b4e34d3e6"
      },
      "execution_count": 41,
      "outputs": [
        {
          "output_type": "stream",
          "name": "stdout",
          "text": [
            "0.9718174319494088\n"
          ]
        }
      ]
    },
    {
      "cell_type": "code",
      "source": [
        "#presicion score\n",
        "labels=['Gonen']\n",
        "print(precision_score(y_test, y_pred, average='micro'))"
      ],
      "metadata": {
        "colab": {
          "base_uri": "https://localhost:8080/"
        },
        "id": "dWDoWo99w48C",
        "outputId": "66287ce7-ea55-4b15-c04d-42c8ee720178"
      },
      "execution_count": 42,
      "outputs": [
        {
          "output_type": "stream",
          "name": "stdout",
          "text": [
            "0.9718174319494088\n"
          ]
        }
      ]
    },
    {
      "cell_type": "code",
      "execution_count": 43,
      "metadata": {
        "id": "aGU9RuEOPZHD"
      },
      "outputs": [],
      "source": [
        "#decision tree classifier (dt)\n",
        "from sklearn.tree import DecisionTreeClassifier"
      ]
    },
    {
      "cell_type": "code",
      "execution_count": 44,
      "metadata": {
        "id": "2gIwnjkDPrH-"
      },
      "outputs": [],
      "source": [
        "model_dt = DecisionTreeClassifier()\n",
        "model_dt.fit(X_train,y_train)\n",
        "y_pred = model_dt.predict(X_test)"
      ]
    },
    {
      "cell_type": "code",
      "source": [
        "#Accuracy Score\n",
        "print(accuracy_score(y_test, y_pred))"
      ],
      "metadata": {
        "colab": {
          "base_uri": "https://localhost:8080/"
        },
        "id": "a-Nb7Vt_xZWd",
        "outputId": "bdded9a5-7b2f-4666-d99b-bfa4abe40d81"
      },
      "execution_count": 45,
      "outputs": [
        {
          "output_type": "stream",
          "name": "stdout",
          "text": [
            "1.0\n"
          ]
        }
      ]
    },
    {
      "cell_type": "code",
      "source": [
        "#confussion matrix\n",
        "print(confusion_matrix(y_test, y_pred))"
      ],
      "metadata": {
        "colab": {
          "base_uri": "https://localhost:8080/"
        },
        "id": "8sGlfi3PxZJL",
        "outputId": "1d13792d-14a5-4cc3-85f5-363bdaa2a356"
      },
      "execution_count": 46,
      "outputs": [
        {
          "output_type": "stream",
          "name": "stdout",
          "text": [
            "[[3357    0]\n",
            " [   0 3917]]\n"
          ]
        }
      ]
    },
    {
      "cell_type": "code",
      "source": [
        "#classification report\n",
        "print(classification_report(y_test, y_pred))"
      ],
      "metadata": {
        "colab": {
          "base_uri": "https://localhost:8080/"
        },
        "id": "NaQ81hMwxY-B",
        "outputId": "448ae1e0-e4d7-48f1-ec78-d4b045421eab"
      },
      "execution_count": 47,
      "outputs": [
        {
          "output_type": "stream",
          "name": "stdout",
          "text": [
            "              precision    recall  f1-score   support\n",
            "\n",
            "       Gonen       1.00      1.00      1.00      3357\n",
            "     jasmine       1.00      1.00      1.00      3917\n",
            "\n",
            "    accuracy                           1.00      7274\n",
            "   macro avg       1.00      1.00      1.00      7274\n",
            "weighted avg       1.00      1.00      1.00      7274\n",
            "\n"
          ]
        }
      ]
    },
    {
      "cell_type": "code",
      "source": [
        "#recall score\n",
        "labels=['Gonen']\n",
        "print(recall_score(y_test, y_pred, average='micro'))"
      ],
      "metadata": {
        "colab": {
          "base_uri": "https://localhost:8080/"
        },
        "id": "lYxxc2FzxYxo",
        "outputId": "269208f0-e51d-4b39-d059-e21d59eeea6d"
      },
      "execution_count": 48,
      "outputs": [
        {
          "output_type": "stream",
          "name": "stdout",
          "text": [
            "1.0\n"
          ]
        }
      ]
    },
    {
      "cell_type": "code",
      "source": [
        "#f1 score\n",
        "labels=['Gonen']\n",
        "print(f1_score(y_test, y_pred, average='micro'))"
      ],
      "metadata": {
        "colab": {
          "base_uri": "https://localhost:8080/"
        },
        "id": "Z5ZVClIWxYgE",
        "outputId": "6abb7dc9-52ee-4028-8bf4-ffb9d5a3c11a"
      },
      "execution_count": 49,
      "outputs": [
        {
          "output_type": "stream",
          "name": "stdout",
          "text": [
            "1.0\n"
          ]
        }
      ]
    },
    {
      "cell_type": "code",
      "source": [
        "#presicion score\n",
        "labels=['Gonen']\n",
        "print(precision_score(y_test, y_pred, average='micro'))"
      ],
      "metadata": {
        "colab": {
          "base_uri": "https://localhost:8080/"
        },
        "id": "Md7Mq1bH1V_U",
        "outputId": "d2326207-a35f-4e6a-f538-99217209b095"
      },
      "execution_count": 50,
      "outputs": [
        {
          "output_type": "stream",
          "name": "stdout",
          "text": [
            "1.0\n"
          ]
        }
      ]
    },
    {
      "cell_type": "code",
      "execution_count": 51,
      "metadata": {
        "id": "tUDzvEliP96e"
      },
      "outputs": [],
      "source": [
        "#RandomForestClassifier\n",
        "from sklearn.ensemble import RandomForestClassifier"
      ]
    },
    {
      "cell_type": "code",
      "execution_count": 52,
      "metadata": {
        "id": "Z-wJI3GCQIJH"
      },
      "outputs": [],
      "source": [
        "#model_rf = RandomForestClassifier\n",
        "model_rf = RandomForestClassifier(n_estimators=100)\n",
        "model_rf.fit(X_train, y_train)\n",
        "pred_rf = model_rf.predict(X_test)"
      ]
    },
    {
      "cell_type": "code",
      "source": [
        "#Accuracy Score\n",
        "print(accuracy_score(y_test, y_pred))"
      ],
      "metadata": {
        "colab": {
          "base_uri": "https://localhost:8080/"
        },
        "id": "3EJI1exA1sgB",
        "outputId": "bbcd17b0-49f1-4cce-a70c-948765ea6e09"
      },
      "execution_count": 53,
      "outputs": [
        {
          "output_type": "stream",
          "name": "stdout",
          "text": [
            "1.0\n"
          ]
        }
      ]
    },
    {
      "cell_type": "code",
      "source": [
        "#confussion matrix\n",
        "print(confusion_matrix(y_test, y_pred))"
      ],
      "metadata": {
        "colab": {
          "base_uri": "https://localhost:8080/"
        },
        "id": "1GmUQLuY10AX",
        "outputId": "b040634a-9f80-49ef-eba7-31396f323dd5"
      },
      "execution_count": 54,
      "outputs": [
        {
          "output_type": "stream",
          "name": "stdout",
          "text": [
            "[[3357    0]\n",
            " [   0 3917]]\n"
          ]
        }
      ]
    },
    {
      "cell_type": "code",
      "source": [
        "#classification report\n",
        "print(classification_report(y_test, y_pred))"
      ],
      "metadata": {
        "colab": {
          "base_uri": "https://localhost:8080/"
        },
        "id": "q2syKllBSuYD",
        "outputId": "25cb8e5b-1294-4259-e698-678174006c1c"
      },
      "execution_count": 55,
      "outputs": [
        {
          "output_type": "stream",
          "name": "stdout",
          "text": [
            "              precision    recall  f1-score   support\n",
            "\n",
            "       Gonen       1.00      1.00      1.00      3357\n",
            "     jasmine       1.00      1.00      1.00      3917\n",
            "\n",
            "    accuracy                           1.00      7274\n",
            "   macro avg       1.00      1.00      1.00      7274\n",
            "weighted avg       1.00      1.00      1.00      7274\n",
            "\n"
          ]
        }
      ]
    },
    {
      "cell_type": "code",
      "source": [
        "#recall score\n",
        "labels=['Gonen']\n",
        "print(recall_score(y_test, y_pred, average='micro'))"
      ],
      "metadata": {
        "colab": {
          "base_uri": "https://localhost:8080/"
        },
        "id": "7PBsKpM81682",
        "outputId": "b26b89f2-aa8b-484f-a10f-eb0e03b4cb86"
      },
      "execution_count": 56,
      "outputs": [
        {
          "output_type": "stream",
          "name": "stdout",
          "text": [
            "1.0\n"
          ]
        }
      ]
    },
    {
      "cell_type": "code",
      "source": [
        "#f1 score\n",
        "labels=['Gonen']\n",
        "print(f1_score(y_test, y_pred, average='micro'))"
      ],
      "metadata": {
        "colab": {
          "base_uri": "https://localhost:8080/"
        },
        "id": "te4IIEmX16uO",
        "outputId": "572a4031-69d7-427d-b0c3-6a93329b0dd6"
      },
      "execution_count": 57,
      "outputs": [
        {
          "output_type": "stream",
          "name": "stdout",
          "text": [
            "1.0\n"
          ]
        }
      ]
    },
    {
      "cell_type": "code",
      "source": [
        "#presicion score\n",
        "labels=['Gonen']\n",
        "print(precision_score(y_test, y_pred, average='micro'))"
      ],
      "metadata": {
        "colab": {
          "base_uri": "https://localhost:8080/"
        },
        "id": "xuSaEJk416eH",
        "outputId": "e4c4158b-dafc-409c-8347-016b164fb9e1"
      },
      "execution_count": 58,
      "outputs": [
        {
          "output_type": "stream",
          "name": "stdout",
          "text": [
            "1.0\n"
          ]
        }
      ]
    },
    {
      "cell_type": "code",
      "execution_count": 59,
      "metadata": {
        "colab": {
          "base_uri": "https://localhost:8080/"
        },
        "id": "a2Ria_C9Q_SQ",
        "outputId": "ea1bacd8-5d51-47e7-ad18-712c0c2319ae"
      },
      "outputs": [
        {
          "output_type": "stream",
          "name": "stdout",
          "text": [
            "[0.9749793786087435, 0.9998625240582898, 0.9718174319494088, 1.0, 1.0]\n"
          ]
        }
      ],
      "source": [
        "#Accuracy comparision for various models.\n",
        "models = [model_knn, model_logreg, model_svc, model_dt, model_rf]\n",
        "accuracy_scores = []\n",
        "for model in models:\n",
        "  y_pred = model.predict(X_test)\n",
        "  accuracy = accuracy_score(y_test, y_pred)\n",
        "  accuracy_scores.append(accuracy)\n",
        "\n",
        "print(accuracy_scores)"
      ]
    },
    {
      "cell_type": "code",
      "execution_count": 60,
      "metadata": {
        "colab": {
          "base_uri": "https://localhost:8080/",
          "height": 297
        },
        "id": "-WyMkdvoRoH8",
        "outputId": "f8a7e734-f3d6-468b-cd8c-b3e8d9e2a186"
      },
      "outputs": [
        {
          "output_type": "display_data",
          "data": {
            "text/plain": [
              "<Figure size 432x288 with 1 Axes>"
            ],
            "image/png": "[encoded data removed]"
          },
          "metadata": {
            "needs_background": "light"
          }
        }
      ],
      "source": [
        "plt.bar(['KNN','LogReg','SVC','DT','RF'],accuracy_scores)\n",
        "plt.ylim(0.90,1.01)\n",
        "plt.title('Accuracy comparision for various models', fontsize=15, color='r')\n",
        "plt.xlabel('models', fontsize=18, color='g')\n",
        "plt.ylabel('Accuracy Score', fontsize=18, color='g')\n",
        "plt.tight_layout()\n",
        "plt.show()"
      ]
    },
    {
      "cell_type": "code",
      "source": [
        "models = [model_knn, model_logreg, model_svc, model_dt, model_rf]\n",
        "labels=['Gonen']\n",
        "precision_scores = []\n",
        "for model in models:\n",
        "  y_pred = model.predict(X_test)\n",
        "  accuracy = precision_score(y_test, y_pred, average='macro')\n",
        "  precision_scores.append(accuracy)\n",
        "\n",
        "print(precision_scores)"
      ],
      "metadata": {
        "colab": {
          "base_uri": "https://localhost:8080/"
        },
        "id": "MYR4ZU0wDPzs",
        "outputId": "5fa50a92-31ad-4268-8192-f8187ccca26b"
      },
      "execution_count": 61,
      "outputs": [
        {
          "output_type": "stream",
          "name": "stdout",
          "text": [
            "[0.9770559967986716, 0.9998723838693211, 0.9749866290495208, 1.0, 1.0]\n"
          ]
        }
      ]
    },
    {
      "cell_type": "code",
      "source": [
        "plt.bar(['KNN','LogReg','SVC','DT','RF'],precision_scores)\n",
        "plt.ylim(0.90,1.01)\n",
        "plt.title('Accuracy comparision for various models', fontsize=15, color='r')\n",
        "plt.xlabel('models', fontsize=18, color='g')\n",
        "plt.ylabel('precision', fontsize=18, color='g')\n",
        "plt.tight_layout()\n",
        "plt.show()"
      ],
      "metadata": {
        "colab": {
          "base_uri": "https://localhost:8080/",
          "height": 297
        },
        "id": "3CgtfVhvREFo",
        "outputId": "67996709-a317-4978-ff17-768757fb2952"
      },
      "execution_count": 62,
      "outputs": [
        {
          "output_type": "display_data",
          "data": {
            "text/plain": [
              "<Figure size 432x288 with 1 Axes>"
            ],
            "image/png": "[encoded data removed]"
          },
          "metadata": {
            "needs_background": "light"
          }
        }
      ]
    }
  ],
  "metadata": {
    "colab": {
      "provenance": [],
      "authorship_tag": "ABX9TyNjLbk3xGdAIjxVD+bKOe8Z",
      "include_colab_link": true
    },
    "kernelspec": {
      "display_name": "Python 3",
      "name": "python3"
    },
    "language_info": {
      "name": "python"
    }
  },
  "nbformat": 4,
  "nbformat_minor": 0
}